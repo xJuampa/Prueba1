{
  "cells": [
    {
      "cell_type": "markdown",
      "metadata": {
        "id": "view-in-github",
        "colab_type": "text"
      },
      "source": [
        "<a href=\"https://colab.research.google.com/github/xJuampa/Prueba1/blob/main/RESOLUCION_TP1_CienciaDeDatos_PDF.ipynb\" target=\"_parent\"><img src=\"https://colab.research.google.com/assets/colab-badge.svg\" alt=\"Open In Colab\"/></a>"
      ]
    },
    {
      "cell_type": "markdown",
      "metadata": {
        "id": "2X7U2w7IebLm"
      },
      "source": [
        "# Trabajo Practico N1\n",
        "# Introduction al Dessarrollo en Python"
      ]
    },
    {
      "cell_type": "markdown",
      "metadata": {
        "id": "kwBfCKCRNyxc"
      },
      "source": [
        "**EJERCICIO 1**\n",
        "\n",
        "Determinar si un numero ingresado por el usuario es PAR"
      ]
    },
    {
      "cell_type": "code",
      "source": [
        "n = int(input(\"Ingrese un numero entero:\"))\n",
        "\n",
        "\n",
        "if n % 2 == 0:\n",
        "    print('El numero es par')\n",
        "else: print('El numero es impar')"
      ],
      "metadata": {
        "colab": {
          "base_uri": "https://localhost:8080/"
        },
        "id": "P-dCUGm0IBGA",
        "outputId": "44ad8236-c485-49c2-dd7e-b397c3cf6ab4"
      },
      "execution_count": 2,
      "outputs": [
        {
          "output_type": "stream",
          "name": "stdout",
          "text": [
            "Ingrese un numero entero:5\n",
            "El numero es impar\n"
          ]
        }
      ]
    },
    {
      "cell_type": "markdown",
      "metadata": {
        "id": "KKY6JsexOCUy"
      },
      "source": [
        "**EJERCICIO 2**\n",
        "\n",
        "Determinar si un numero ingresado por el usuario esta DENTRO DEL RANGO [1,10] y es par. MUESTRE UN MENSAJE EN CASO CONTRARIO 'NÚMERO FUERA DEL RANGO'"
      ]
    },
    {
      "cell_type": "code",
      "source": [
        "n = int(input('Ingrese un numero entre 1 y 10:'))\n",
        "\n",
        "if n>= 1 and n<=10 and n%2==0:\n",
        "  print('El numero es par')\n",
        "else: print('NÚMERO FUERA DE RANGO')\n"
      ],
      "metadata": {
        "colab": {
          "base_uri": "https://localhost:8080/"
        },
        "id": "pNTaaTXNIXp1",
        "outputId": "c8516f5e-995c-454f-d23a-c975793bba2b"
      },
      "execution_count": 8,
      "outputs": [
        {
          "output_type": "stream",
          "name": "stdout",
          "text": [
            "Ingrese un numero entre 1 y 10:15\n",
            "NÚMERO FUERA DE RANGO\n"
          ]
        }
      ]
    },
    {
      "cell_type": "markdown",
      "metadata": {
        "id": "cfitfYKpQK2O"
      },
      "source": [
        "**EJERCICIO 3 CICLO FOR**\n",
        "\n",
        "\n",
        "Solicitar al usuario que ingrese 10 números. Calcule la suma de todos los números ingresados y  cuente cuántos de ellos son par.\n"
      ]
    },
    {
      "cell_type": "code",
      "source": [
        "suma = 0\n",
        "contador = 0\n",
        "for i in range(10):\n",
        "  n=int(input('Ingrese su número {}:'.format(i+1)))\n",
        "  suma+= n\n",
        "  if n%2==0:\n",
        "    contador+=1\n",
        "\n",
        "print(\"La suma de los números ingresados es:\", suma)\n",
        "print(\"Cantidad de números pares:\", contador)\n",
        "\n"
      ],
      "metadata": {
        "colab": {
          "base_uri": "https://localhost:8080/"
        },
        "id": "3BIIKkfoIWgC",
        "outputId": "758598bd-59d4-4c4b-9294-c28454d5d2b2"
      },
      "execution_count": 13,
      "outputs": [
        {
          "output_type": "stream",
          "name": "stdout",
          "text": [
            "Ingrese su número 1:10\n",
            "Ingrese su número 2:50\n",
            "Ingrese su número 3:25\n",
            "Ingrese su número 4:13\n",
            "Ingrese su número 5:11\n",
            "Ingrese su número 6:9\n",
            "Ingrese su número 7:8\n",
            "Ingrese su número 8:5\n",
            "Ingrese su número 9:22\n",
            "Ingrese su número 10:11\n",
            "La suma de los números ingresados es: 164\n",
            "Cantidad de números pares: 4\n"
          ]
        }
      ]
    },
    {
      "cell_type": "markdown",
      "metadata": {
        "id": "7YyBaMyyRh7I"
      },
      "source": [
        "**EJERCICIOS 4**\n",
        "\n",
        "Mostrar todos los números presentes en el rango [56,1230]\n",
        "Solicitar al usuario que ingrese el rango [a,b] y muestre todos los números pertenecientes a él."
      ]
    },
    {
      "cell_type": "code",
      "source": [
        "a=int(input('Ingrese el valor inicial del intervalo:'))\n",
        "b=int(input('Ingrese el valor final del intervalo:'))\n",
        "\n",
        "print('Los número dentro del intervalo {}, {}  son: '.format(a,b))\n",
        "\n",
        "for i in range(a+1,b):\n",
        "  print(i)\n",
        "\n"
      ],
      "metadata": {
        "colab": {
          "base_uri": "https://localhost:8080/"
        },
        "id": "DvucANa9OpQt",
        "outputId": "7cfafe19-8923-4ea2-e087-14cf4a71b40f"
      },
      "execution_count": 17,
      "outputs": [
        {
          "output_type": "stream",
          "name": "stdout",
          "text": [
            "Ingrese el valor inicial del intervalo:5\n",
            "Ingrese el valor final del intervalo:80\n",
            "Los número dentro del intervalo 5, 80  son: \n",
            "6\n",
            "7\n",
            "8\n",
            "9\n",
            "10\n",
            "11\n",
            "12\n",
            "13\n",
            "14\n",
            "15\n",
            "16\n",
            "17\n",
            "18\n",
            "19\n",
            "20\n",
            "21\n",
            "22\n",
            "23\n",
            "24\n",
            "25\n",
            "26\n",
            "27\n",
            "28\n",
            "29\n",
            "30\n",
            "31\n",
            "32\n",
            "33\n",
            "34\n",
            "35\n",
            "36\n",
            "37\n",
            "38\n",
            "39\n",
            "40\n",
            "41\n",
            "42\n",
            "43\n",
            "44\n",
            "45\n",
            "46\n",
            "47\n",
            "48\n",
            "49\n",
            "50\n",
            "51\n",
            "52\n",
            "53\n",
            "54\n",
            "55\n",
            "56\n",
            "57\n",
            "58\n",
            "59\n",
            "60\n",
            "61\n",
            "62\n",
            "63\n",
            "64\n",
            "65\n",
            "66\n",
            "67\n",
            "68\n",
            "69\n",
            "70\n",
            "71\n",
            "72\n",
            "73\n",
            "74\n",
            "75\n",
            "76\n",
            "77\n",
            "78\n",
            "79\n"
          ]
        }
      ]
    },
    {
      "cell_type": "markdown",
      "metadata": {
        "id": "sCYdUm5DOpPk"
      },
      "source": [
        "**EJERCICIO 5 CICLO WHILE**\n",
        "\n",
        "Solicitar al usuario que ingrese un número, si es negativo o nulo , solicitar reiteradamente hasta que ingrese un numero positivo."
      ]
    },
    {
      "cell_type": "code",
      "source": [
        "n = int(input('Ingrese un número positivo: '))\n",
        "\n",
        "while n<=0:\n",
        "  print('Ingrese un número invalido.')\n",
        "  n=int(input('Ingrese un número positivo: '))\n",
        "\n",
        "print('número valido {}'.format(n))"
      ],
      "metadata": {
        "colab": {
          "base_uri": "https://localhost:8080/"
        },
        "id": "fcyaDEIRP-1C",
        "outputId": "1afdcc21-854c-40ce-df47-dbc116a1da87"
      },
      "execution_count": 22,
      "outputs": [
        {
          "output_type": "stream",
          "name": "stdout",
          "text": [
            "Ingrese un número positivo: -8\n",
            "Ingrese un número invalido.\n",
            "Ingrese un número positivo: -5\n",
            "Ingrese un número invalido.\n",
            "Ingrese un número positivo: 8\n",
            "número valido 8\n"
          ]
        }
      ]
    },
    {
      "cell_type": "markdown",
      "metadata": {
        "id": "yxB31mqka2i3"
      },
      "source": [
        "chicos, si ingresan un dato nulo (vacio), debo usar un while para que vuelva a pedir lo mismo, pero si es un dato no nulo pasa y el valor lo transfomamos en entero,\n",
        "y comparamos si es positivo. Si no lo es hay que pedir otro dato, pero puede ser nulo, entonces habría que hacer todo de nuevo. Por eso llamo en el  **else** a la funcion  **positivo**, para que inicie todo de nuevo.\n",
        "recuerden que para ejecutar una funcion hay que llamarla con su nombre y parentesis. Ejemplo: positivo()"
      ]
    },
    {
      "cell_type": "markdown",
      "metadata": {
        "id": "Snkm3EDCSb6n"
      },
      "source": [
        "**EJERCICIO 6**\n",
        "\n",
        "Solicitar al usuario que ingrese un número, si el número es positivo , solicitar reiteradamente hasta que ingrese un numero negativo. Luego mostrar dicho número si es par, en caso contrario mostrar un mensaje 'número ingresado impar'."
      ]
    },
    {
      "cell_type": "code",
      "source": [
        "n = int(input('Ingrese un número: '))\n",
        "\n",
        "while n>=0:\n",
        "  print('Ingrese un número invalido.')\n",
        "  n=int(input('Ingrese un número negativo: '))\n",
        "if n%2==0:\n",
        "  print(n)\n",
        "else: print('Número ingresado impar')"
      ],
      "metadata": {
        "colab": {
          "base_uri": "https://localhost:8080/"
        },
        "id": "yVILvyvwRs60",
        "outputId": "d7dd528b-730e-4510-8726-606840ae04ae"
      },
      "execution_count": 23,
      "outputs": [
        {
          "output_type": "stream",
          "name": "stdout",
          "text": [
            "Ingrese un número: 5\n",
            "Ingrese un número invalido.\n",
            "Ingrese un número negativo: -8\n",
            "-8\n"
          ]
        }
      ]
    },
    {
      "cell_type": "markdown",
      "metadata": {
        "id": "sypNigFYS3iU"
      },
      "source": [
        "**EJERCICIO 7 VECTORES CON CICLO FOR**\n",
        "\n",
        "Solicitar al usuario que ingrese la cantidad de elementos del vector.\n",
        "Ingresar cada elemento del vector y calcular su promedio.AYUDA: EL PROMEDIO ES LA SUMA DE TODOS LOS NÚMEROS DIVIDO LA CANTIDAD TOTAL.\n",
        "Mostrar el vector."
      ]
    },
    {
      "cell_type": "code",
      "source": [
        "cantidad_vector = int(input('Ingrese la cantidad de datos que tendra el vector: '))\n",
        "lista_vector = []\n",
        "\n",
        "for i in range(cantidad_vector):\n",
        "  vector_actual = float(input('Ingrese el dato {}: '.format(i+1)))\n",
        "  lista_vector.append(vector_actual)\n",
        "\n",
        "print('Tu vector: {}'.format(lista_vector))\n",
        "\n",
        "\n",
        "\n"
      ],
      "metadata": {
        "colab": {
          "base_uri": "https://localhost:8080/"
        },
        "id": "cFJtM0FkTZWd",
        "outputId": "413208c4-da30-4971-c2ad-a8a83bb090ec"
      },
      "execution_count": 33,
      "outputs": [
        {
          "output_type": "stream",
          "name": "stdout",
          "text": [
            "Ingrese la cantidad de datos que tendra el vector: 2\n",
            "Ingrese el dato 1: 2\n",
            "Ingrese el dato 2: 6\n",
            "Tu vector: [2.0, 6.0]\n"
          ]
        }
      ]
    },
    {
      "cell_type": "markdown",
      "metadata": {
        "id": "W15_ajQyULBo"
      },
      "source": [
        "**EJERCICIO 8 LISTA CON CICLO FOR**\n",
        "\n",
        "Solicitar a 10 usuario que ingresen los siguientes datos en el formato lista.\n",
        "\n",
        "['NOMBRE','APELLIDO', 'DNI','GASTOS MENSUALES DE HOGAR']\n",
        "\n",
        "Ingresar el final de la lista los siguientes usuarios:\n",
        "\n",
        "['ESTEBAN','LOPEZ', '45675400','190800.80']\n",
        "\n",
        "['NOELIA','ALEJA', '46906875','85900.50']\n",
        "\n",
        "Mostrar el vector.\n",
        "Eliminar el primer usuario de la lista."
      ]
    },
    {
      "cell_type": "code",
      "source": [
        "usuarios = []\n",
        "\n",
        "for i in range(2):\n",
        "    nombre = input(\"Ingrese el nombre del usuario {}: \".format(i + 1))\n",
        "    apellido = input(\"Ingrese el apellido del usuario {}: \".format(i + 1))\n",
        "    dni = input(\"Ingrese el DNI del usuario {}: \".format(i + 1))\n",
        "    gastos_mensuales = float(input(\"Ingrese los gastos mensuales de hogar del usuario {}: \".format(i + 1)))\n",
        "\n",
        "    usuario_actual = [nombre, apellido, dni, gastos_mensuales]\n",
        "    usuarios.append(usuario_actual)\n",
        "\n",
        "if len(usuarios) > 0:\n",
        "    usuarios.pop(0)\n",
        "\n",
        "\n",
        "print(\"usuarios después de eliminar el primer usuario:\")\n",
        "for i in usuarios:\n",
        "    print(i)"
      ],
      "metadata": {
        "colab": {
          "base_uri": "https://localhost:8080/"
        },
        "id": "7e5fK_BsWfwZ",
        "outputId": "7621665b-39be-4c23-da65-728859427768"
      },
      "execution_count": 35,
      "outputs": [
        {
          "output_type": "stream",
          "name": "stdout",
          "text": [
            "Ingrese el nombre del usuario 1: jorge\n",
            "Ingrese el apellido del usuario 1: jorge\n",
            "Ingrese el DNI del usuario 1: 5\n",
            "Ingrese los gastos mensuales de hogar del usuario 1: 5\n",
            "Ingrese el nombre del usuario 2: jorge2\n",
            "Ingrese el apellido del usuario 2: jorge2\n",
            "Ingrese el DNI del usuario 2: 6\n",
            "Ingrese los gastos mensuales de hogar del usuario 2: 6\n",
            "usuarios después de eliminar el primer usuario:\n",
            "['jorge2', 'jorge2', '6', 6.0]\n"
          ]
        }
      ]
    },
    {
      "cell_type": "markdown",
      "metadata": {
        "id": "vHZ23eGsrJe-"
      },
      "source": [
        "para probar como funciona cambien en el for el 10 por 2 y ejecuten ingrese los datos que le pidan y al terminar todo vuelvan a poner 10 en el for"
      ]
    },
    {
      "cell_type": "markdown",
      "metadata": {
        "id": "5x1DqNkpTWzi"
      },
      "source": [
        "**EJERCICIO 9 LISTA CON CICLO FOR**\n",
        "\n",
        "Buscar en la web los datos pablacionales de todas las provicias de Argentina , generando una lista con los siguiente información.\n",
        "\n",
        "['PROVINCIA','CANTIDAD DE HABITANTES', 'CONSUMO ELECTRICO PER CAPITA','SUPERFICIE EN M^2']\n",
        "\n",
        "\n",
        "\n",
        "Mostrar TODOS LOS DATOS DEL LISTADO.\n",
        "\n"
      ]
    },
    {
      "cell_type": "markdown",
      "metadata": {
        "id": "i-vHT64rNKKA"
      },
      "source": []
    },
    {
      "cell_type": "markdown",
      "metadata": {
        "id": "SVaFh43fTwt3"
      },
      "source": [
        "**EJERCICIO 10 LISTAS**\n",
        "\n",
        "Crear una lista con información de estudianes de un colegio donde incluya los siguientes items:\n",
        "\n",
        "\n",
        "*   curso y división del aula del alumno\n",
        "*   nombre y apellidos\n",
        "*   DNI\n",
        "*   cantidad de notas en el primer trimestre\n",
        "*   INGRESAR CADA UNA DE ESAS NOTAS, POR EL USUARIO\n",
        "*   promedio del trimestre\n",
        "\n",
        "Mostrar todos los nombres y apellidos de los  alumnos\n",
        "Mostrar los alumnos con promedio mayor o igual a 6\n",
        "\n",
        "\n"
      ]
    }
  ],
  "metadata": {
    "colab": {
      "provenance": [],
      "include_colab_link": true
    },
    "kernelspec": {
      "display_name": "Python 3",
      "name": "python3"
    },
    "language_info": {
      "name": "python"
    }
  },
  "nbformat": 4,
  "nbformat_minor": 0
}